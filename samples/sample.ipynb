{
  "cells": [
    {
      "cell_type": "code",
      "source": [
        "import os\n",
        "\n",
        "import numpy as np\n",
        "import pandas as pd\n",
        "import sklearn.datasets as datasets\n",
        "\nimport revisor as rv"
      ],
      "outputs": [],
      "execution_count": 1,
      "metadata": {
        "collapsed": false,
        "outputHidden": false,
        "inputHidden": false
      }
    },
    {
      "cell_type": "code",
      "source": [
        "dataset = datasets.load_boston()\n",
        "dataframe = pd.DataFrame(dataset.data, columns=dataset.feature_names)\n",
        "dataframe['target'] = dataset.target"
      ],
      "outputs": [],
      "execution_count": 2,
      "metadata": {
        "collapsed": false,
        "outputHidden": false,
        "inputHidden": false
      }
    },
    {
      "cell_type": "markdown",
      "source": [
        "**IN JUPYTER NOTEBOOKS WE NEED TO WRAP THE IMPLEMENTATION CLASS**"
      ],
      "metadata": {}
    },
    {
      "cell_type": "code",
      "source": [
        "def wrapper():\n",
        "    class Implementation():\n",
        "        def fit(self, model):\n",
        "            from sklearn.neighbors import KNeighborsRegressor\n",
        "            import pickle\n",
        "            \n",
        "            data = model.get_dataset()\n",
        "\n",
        "            features = list(data.columns)\n",
        "            features.remove('target')\n",
        "\n",
        "            X = data[features]\n",
        "            y = data['target']\n",
        "\n",
        "            regressor = KNeighborsRegressor(\n",
        "                n_neighbors = model.get_setting_value('neighbors')\n",
        "            ).fit(X, y)\n",
        "\n",
        "            pickle.dump(\n",
        "                regressor,\n",
        "                model.open_file_on_server('current.pickle', 'wb')\n",
        "            )\n",
        "            \n",
        "            return regressor.score(X, y)\n",
        "            \n",
        "        def predict(self, model, X):\n",
        "            import pickle\n",
        "            import numpy as np\n",
        "            \n",
        "            regressor = pickle.load(\n",
        "                model.open_file_on_server('current.pickle', 'rb')\n",
        "            )\n",
        "\n",
        "            return regressor.predict(np.array(X).reshape(\n",
        "                -1, model.get_setting_value('shape')\n",
        "            )).tolist()\n",
        "    return Implementation"
      ],
      "outputs": [],
      "execution_count": 3,
      "metadata": {
        "collapsed": false,
        "outputHidden": false,
        "inputHidden": false
      }
    },
    {
      "cell_type": "code",
      "source": [
        "revisor_url = os.environ['REVISOR_SITE'] if 'REVISOR_SITE' in os.environ \\\n",
        "              else 'http://localhost:8000'\n",
        "project = rv.Project('NotebookProject', revisor_url)\n",
        "token = 'a5be1b7a9aa52b5470848fb0c84d715fd7b5963d' # admin's token"
      ],
      "outputs": [],
      "execution_count": 4,
      "metadata": {
        "collapsed": false,
        "outputHidden": false,
        "inputHidden": false
      }
    },
    {
      "cell_type": "code",
      "source": [
        "model = rv.Model('ExampleModel')\n",
        "model.add_setting('neighbors', 'integer', 3)\n",
        "model.add_setting('shape', 'integer', len(dataframe.columns) - 1)\n",
        "model.set_dataset(dataframe)"
      ],
      "outputs": [],
      "execution_count": 5,
      "metadata": {
        "collapsed": false,
        "outputHidden": false,
        "inputHidden": false
      }
    },
    {
      "cell_type": "code",
      "source": [
        "assert project.deploy(model, wrapper, token)['ok']"
      ],
      "outputs": [],
      "execution_count": 6,
      "metadata": {
        "collapsed": false,
        "outputHidden": false,
        "inputHidden": false
      }
    },
    {
      "cell_type": "code",
      "source": [
        "import requests\n",
        "scores = requests.post(\n",
        "    revisor_url + '/projects/NotebookProject/fit',\n",
        "    cookies={'token': token}\n",
        ").json()\n",
        "print(\"Score %.5f\" % scores)\n",
        "\n",
        "correct = dataframe['target'].values.tolist()\n",
        "X = dataframe.drop('target', axis='columns').values.tolist()\n",
        "\n",
        "predictions = requests.post(\n",
        "    revisor_url + '/projects/NotebookProject/predict',\n",
        "    cookies={'token': token},\n",
        "    json=X\n",
        ").json()\n",
        "\n",
        "from sklearn.metrics import r2_score\n",
        "print(\"Check %.5f\" % r2_score(correct, predictions))"
      ],
      "outputs": [
        {
          "output_type": "stream",
          "name": "stdout",
          "text": [
            "Score 0.78685\n",
            "Check 0.78685\n"
          ]
        }
      ],
      "execution_count": 7,
      "metadata": {
        "collapsed": false,
        "outputHidden": false,
        "inputHidden": false
      }
    }
  ],
  "metadata": {
    "kernelspec": {
      "name": "python3",
      "language": "python",
      "display_name": "Python 3"
    },
    "kernel_info": {
      "name": "python3"
    },
    "nteract": {
      "version": "0.3.4"
    },
    "language_info": {
      "name": "python",
      "version": "3.6.7",
      "mimetype": "text/x-python",
      "codemirror_mode": {
        "name": "ipython",
        "version": 3
      },
      "pygments_lexer": "ipython3",
      "nbconvert_exporter": "python",
      "file_extension": ".py"
    }
  },
  "nbformat": 4,
  "nbformat_minor": 4
}